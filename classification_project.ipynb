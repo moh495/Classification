{
  "nbformat": 4,
  "nbformat_minor": 0,
  "metadata": {
    "colab": {
      "name": "classification project",
      "provenance": [],
      "collapsed_sections": []
    },
    "kernelspec": {
      "name": "python3",
      "display_name": "Python 3"
    }
  },
  "cells": [
    {
      "cell_type": "code",
      "metadata": {
        "id": "oluqeNsMoFZ8",
        "colab_type": "code",
        "colab": {
          "base_uri": "https://localhost:8080/",
          "height": 71
        },
        "outputId": "5095ce2e-1bd4-4348-9519-5ccd70468616"
      },
      "source": [
        "#importing Pandas and Numpy and datasets \n",
        "import numpy as np\n",
        "import pandas as pd\n",
        "import matplotlib.pyplot as plt\n",
        "from sklearn import datasets\n",
        "import seaborn as sns"
      ],
      "execution_count": null,
      "outputs": [
        {
          "output_type": "stream",
          "text": [
            "/usr/local/lib/python3.6/dist-packages/statsmodels/tools/_testing.py:19: FutureWarning: pandas.util.testing is deprecated. Use the functions in the public API at pandas.testing instead.\n",
            "  import pandas.util.testing as tm\n"
          ],
          "name": "stderr"
        }
      ]
    },
    {
      "cell_type": "code",
      "metadata": {
        "id": "67Qf-wFmpV4_",
        "colab_type": "code",
        "colab": {}
      },
      "source": [
        "#Reading the csv file into a Pandas DataFrame\n",
        "test = datasets.load_iris()\n",
        "data = pd.DataFrame(data=np.c_[test['data'], test['target']], columns=test['feature_names'] + ['target'])"
      ],
      "execution_count": null,
      "outputs": []
    },
    {
      "cell_type": "code",
      "metadata": {
        "id": "eG_Boan-qZSw",
        "colab_type": "code",
        "colab": {
          "base_uri": "https://localhost:8080/",
          "height": 34
        },
        "outputId": "39bbcb18-3c4d-45ec-9c65-cf63c183fb37"
      },
      "source": [
        "#as We konw that we have three types of roses(rose 0 , rose 1 , rose 2)\n",
        "data.target.unique()"
      ],
      "execution_count": null,
      "outputs": [
        {
          "output_type": "execute_result",
          "data": {
            "text/plain": [
              "array([0., 1., 2.])"
            ]
          },
          "metadata": {
            "tags": []
          },
          "execution_count": 3
        }
      ]
    },
    {
      "cell_type": "code",
      "metadata": {
        "id": "omVGf_heqj_z",
        "colab_type": "code",
        "colab": {}
      },
      "source": [
        "#in order to simplify the process we will only select two roses(rose 0 , rose1)\n",
        "data = data[data['target'].isin([0,1])]"
      ],
      "execution_count": null,
      "outputs": []
    },
    {
      "cell_type": "code",
      "metadata": {
        "id": "b0Bt_0Ssq45T",
        "colab_type": "code",
        "colab": {
          "base_uri": "https://localhost:8080/",
          "height": 390
        },
        "outputId": "cfc8eee7-d8ae-4e89-9e9b-f50e676dd2ab"
      },
      "source": [
        "data.head(11)"
      ],
      "execution_count": null,
      "outputs": [
        {
          "output_type": "execute_result",
          "data": {
            "text/html": [
              "<div>\n",
              "<style scoped>\n",
              "    .dataframe tbody tr th:only-of-type {\n",
              "        vertical-align: middle;\n",
              "    }\n",
              "\n",
              "    .dataframe tbody tr th {\n",
              "        vertical-align: top;\n",
              "    }\n",
              "\n",
              "    .dataframe thead th {\n",
              "        text-align: right;\n",
              "    }\n",
              "</style>\n",
              "<table border=\"1\" class=\"dataframe\">\n",
              "  <thead>\n",
              "    <tr style=\"text-align: right;\">\n",
              "      <th></th>\n",
              "      <th>sepal length (cm)</th>\n",
              "      <th>sepal width (cm)</th>\n",
              "      <th>petal length (cm)</th>\n",
              "      <th>petal width (cm)</th>\n",
              "      <th>target</th>\n",
              "    </tr>\n",
              "  </thead>\n",
              "  <tbody>\n",
              "    <tr>\n",
              "      <th>0</th>\n",
              "      <td>5.1</td>\n",
              "      <td>3.5</td>\n",
              "      <td>1.4</td>\n",
              "      <td>0.2</td>\n",
              "      <td>0.0</td>\n",
              "    </tr>\n",
              "    <tr>\n",
              "      <th>1</th>\n",
              "      <td>4.9</td>\n",
              "      <td>3.0</td>\n",
              "      <td>1.4</td>\n",
              "      <td>0.2</td>\n",
              "      <td>0.0</td>\n",
              "    </tr>\n",
              "    <tr>\n",
              "      <th>2</th>\n",
              "      <td>4.7</td>\n",
              "      <td>3.2</td>\n",
              "      <td>1.3</td>\n",
              "      <td>0.2</td>\n",
              "      <td>0.0</td>\n",
              "    </tr>\n",
              "    <tr>\n",
              "      <th>3</th>\n",
              "      <td>4.6</td>\n",
              "      <td>3.1</td>\n",
              "      <td>1.5</td>\n",
              "      <td>0.2</td>\n",
              "      <td>0.0</td>\n",
              "    </tr>\n",
              "    <tr>\n",
              "      <th>4</th>\n",
              "      <td>5.0</td>\n",
              "      <td>3.6</td>\n",
              "      <td>1.4</td>\n",
              "      <td>0.2</td>\n",
              "      <td>0.0</td>\n",
              "    </tr>\n",
              "    <tr>\n",
              "      <th>5</th>\n",
              "      <td>5.4</td>\n",
              "      <td>3.9</td>\n",
              "      <td>1.7</td>\n",
              "      <td>0.4</td>\n",
              "      <td>0.0</td>\n",
              "    </tr>\n",
              "    <tr>\n",
              "      <th>6</th>\n",
              "      <td>4.6</td>\n",
              "      <td>3.4</td>\n",
              "      <td>1.4</td>\n",
              "      <td>0.3</td>\n",
              "      <td>0.0</td>\n",
              "    </tr>\n",
              "    <tr>\n",
              "      <th>7</th>\n",
              "      <td>5.0</td>\n",
              "      <td>3.4</td>\n",
              "      <td>1.5</td>\n",
              "      <td>0.2</td>\n",
              "      <td>0.0</td>\n",
              "    </tr>\n",
              "    <tr>\n",
              "      <th>8</th>\n",
              "      <td>4.4</td>\n",
              "      <td>2.9</td>\n",
              "      <td>1.4</td>\n",
              "      <td>0.2</td>\n",
              "      <td>0.0</td>\n",
              "    </tr>\n",
              "    <tr>\n",
              "      <th>9</th>\n",
              "      <td>4.9</td>\n",
              "      <td>3.1</td>\n",
              "      <td>1.5</td>\n",
              "      <td>0.1</td>\n",
              "      <td>0.0</td>\n",
              "    </tr>\n",
              "    <tr>\n",
              "      <th>10</th>\n",
              "      <td>5.4</td>\n",
              "      <td>3.7</td>\n",
              "      <td>1.5</td>\n",
              "      <td>0.2</td>\n",
              "      <td>0.0</td>\n",
              "    </tr>\n",
              "  </tbody>\n",
              "</table>\n",
              "</div>"
            ],
            "text/plain": [
              "    sepal length (cm)  sepal width (cm)  ...  petal width (cm)  target\n",
              "0                 5.1               3.5  ...               0.2     0.0\n",
              "1                 4.9               3.0  ...               0.2     0.0\n",
              "2                 4.7               3.2  ...               0.2     0.0\n",
              "3                 4.6               3.1  ...               0.2     0.0\n",
              "4                 5.0               3.6  ...               0.2     0.0\n",
              "5                 5.4               3.9  ...               0.4     0.0\n",
              "6                 4.6               3.4  ...               0.3     0.0\n",
              "7                 5.0               3.4  ...               0.2     0.0\n",
              "8                 4.4               2.9  ...               0.2     0.0\n",
              "9                 4.9               3.1  ...               0.1     0.0\n",
              "10                5.4               3.7  ...               0.2     0.0\n",
              "\n",
              "[11 rows x 5 columns]"
            ]
          },
          "metadata": {
            "tags": []
          },
          "execution_count": 6
        }
      ]
    },
    {
      "cell_type": "code",
      "metadata": {
        "id": "wgTYa-7TzAnN",
        "colab_type": "code",
        "colab": {
          "base_uri": "https://localhost:8080/",
          "height": 34
        },
        "outputId": "973aaaf1-cfa7-436f-f3fa-8497151a09bf"
      },
      "source": [
        "data.target.unique()"
      ],
      "execution_count": null,
      "outputs": [
        {
          "output_type": "execute_result",
          "data": {
            "text/plain": [
              "array([0., 1.])"
            ]
          },
          "metadata": {
            "tags": []
          },
          "execution_count": 7
        }
      ]
    },
    {
      "cell_type": "code",
      "metadata": {
        "id": "Gkmol5jezGrX",
        "colab_type": "code",
        "colab": {}
      },
      "source": [
        "data = data[data['target'].isin([0 ,1])]"
      ],
      "execution_count": null,
      "outputs": []
    },
    {
      "cell_type": "code",
      "metadata": {
        "id": "9lEsEAPWzgBT",
        "colab_type": "code",
        "colab": {
          "base_uri": "https://localhost:8080/",
          "height": 359
        },
        "outputId": "e2dcaac4-af11-42f6-df5f-cbc6457f0356"
      },
      "source": [
        "#we'll see our DATA \n",
        "data.head(10)"
      ],
      "execution_count": null,
      "outputs": [
        {
          "output_type": "execute_result",
          "data": {
            "text/html": [
              "<div>\n",
              "<style scoped>\n",
              "    .dataframe tbody tr th:only-of-type {\n",
              "        vertical-align: middle;\n",
              "    }\n",
              "\n",
              "    .dataframe tbody tr th {\n",
              "        vertical-align: top;\n",
              "    }\n",
              "\n",
              "    .dataframe thead th {\n",
              "        text-align: right;\n",
              "    }\n",
              "</style>\n",
              "<table border=\"1\" class=\"dataframe\">\n",
              "  <thead>\n",
              "    <tr style=\"text-align: right;\">\n",
              "      <th></th>\n",
              "      <th>sepal length (cm)</th>\n",
              "      <th>sepal width (cm)</th>\n",
              "      <th>petal length (cm)</th>\n",
              "      <th>petal width (cm)</th>\n",
              "      <th>target</th>\n",
              "    </tr>\n",
              "  </thead>\n",
              "  <tbody>\n",
              "    <tr>\n",
              "      <th>0</th>\n",
              "      <td>5.1</td>\n",
              "      <td>3.5</td>\n",
              "      <td>1.4</td>\n",
              "      <td>0.2</td>\n",
              "      <td>0.0</td>\n",
              "    </tr>\n",
              "    <tr>\n",
              "      <th>1</th>\n",
              "      <td>4.9</td>\n",
              "      <td>3.0</td>\n",
              "      <td>1.4</td>\n",
              "      <td>0.2</td>\n",
              "      <td>0.0</td>\n",
              "    </tr>\n",
              "    <tr>\n",
              "      <th>2</th>\n",
              "      <td>4.7</td>\n",
              "      <td>3.2</td>\n",
              "      <td>1.3</td>\n",
              "      <td>0.2</td>\n",
              "      <td>0.0</td>\n",
              "    </tr>\n",
              "    <tr>\n",
              "      <th>3</th>\n",
              "      <td>4.6</td>\n",
              "      <td>3.1</td>\n",
              "      <td>1.5</td>\n",
              "      <td>0.2</td>\n",
              "      <td>0.0</td>\n",
              "    </tr>\n",
              "    <tr>\n",
              "      <th>4</th>\n",
              "      <td>5.0</td>\n",
              "      <td>3.6</td>\n",
              "      <td>1.4</td>\n",
              "      <td>0.2</td>\n",
              "      <td>0.0</td>\n",
              "    </tr>\n",
              "    <tr>\n",
              "      <th>5</th>\n",
              "      <td>5.4</td>\n",
              "      <td>3.9</td>\n",
              "      <td>1.7</td>\n",
              "      <td>0.4</td>\n",
              "      <td>0.0</td>\n",
              "    </tr>\n",
              "    <tr>\n",
              "      <th>6</th>\n",
              "      <td>4.6</td>\n",
              "      <td>3.4</td>\n",
              "      <td>1.4</td>\n",
              "      <td>0.3</td>\n",
              "      <td>0.0</td>\n",
              "    </tr>\n",
              "    <tr>\n",
              "      <th>7</th>\n",
              "      <td>5.0</td>\n",
              "      <td>3.4</td>\n",
              "      <td>1.5</td>\n",
              "      <td>0.2</td>\n",
              "      <td>0.0</td>\n",
              "    </tr>\n",
              "    <tr>\n",
              "      <th>8</th>\n",
              "      <td>4.4</td>\n",
              "      <td>2.9</td>\n",
              "      <td>1.4</td>\n",
              "      <td>0.2</td>\n",
              "      <td>0.0</td>\n",
              "    </tr>\n",
              "    <tr>\n",
              "      <th>9</th>\n",
              "      <td>4.9</td>\n",
              "      <td>3.1</td>\n",
              "      <td>1.5</td>\n",
              "      <td>0.1</td>\n",
              "      <td>0.0</td>\n",
              "    </tr>\n",
              "  </tbody>\n",
              "</table>\n",
              "</div>"
            ],
            "text/plain": [
              "   sepal length (cm)  sepal width (cm)  ...  petal width (cm)  target\n",
              "0                5.1               3.5  ...               0.2     0.0\n",
              "1                4.9               3.0  ...               0.2     0.0\n",
              "2                4.7               3.2  ...               0.2     0.0\n",
              "3                4.6               3.1  ...               0.2     0.0\n",
              "4                5.0               3.6  ...               0.2     0.0\n",
              "5                5.4               3.9  ...               0.4     0.0\n",
              "6                4.6               3.4  ...               0.3     0.0\n",
              "7                5.0               3.4  ...               0.2     0.0\n",
              "8                4.4               2.9  ...               0.2     0.0\n",
              "9                4.9               3.1  ...               0.1     0.0\n",
              "\n",
              "[10 rows x 5 columns]"
            ]
          },
          "metadata": {
            "tags": []
          },
          "execution_count": 9
        }
      ]
    },
    {
      "cell_type": "code",
      "metadata": {
        "id": "Lhwi5kFezu0o",
        "colab_type": "code",
        "colab": {}
      },
      "source": [
        "#I just chose 2 features\n",
        "data = data[['sepal width (cm)' , 'sepal length (cm)' ,  'target']]"
      ],
      "execution_count": null,
      "outputs": []
    },
    {
      "cell_type": "code",
      "metadata": {
        "id": "4jt11lVB1-Hk",
        "colab_type": "code",
        "colab": {
          "base_uri": "https://localhost:8080/",
          "height": 142
        },
        "outputId": "1a3ad4c3-0b46-4254-a3b3-c264ee37d2cf"
      },
      "source": [
        "data.head(3)"
      ],
      "execution_count": null,
      "outputs": [
        {
          "output_type": "execute_result",
          "data": {
            "text/html": [
              "<div>\n",
              "<style scoped>\n",
              "    .dataframe tbody tr th:only-of-type {\n",
              "        vertical-align: middle;\n",
              "    }\n",
              "\n",
              "    .dataframe tbody tr th {\n",
              "        vertical-align: top;\n",
              "    }\n",
              "\n",
              "    .dataframe thead th {\n",
              "        text-align: right;\n",
              "    }\n",
              "</style>\n",
              "<table border=\"1\" class=\"dataframe\">\n",
              "  <thead>\n",
              "    <tr style=\"text-align: right;\">\n",
              "      <th></th>\n",
              "      <th>sepal width (cm)</th>\n",
              "      <th>sepal length (cm)</th>\n",
              "      <th>target</th>\n",
              "    </tr>\n",
              "  </thead>\n",
              "  <tbody>\n",
              "    <tr>\n",
              "      <th>0</th>\n",
              "      <td>3.5</td>\n",
              "      <td>5.1</td>\n",
              "      <td>0.0</td>\n",
              "    </tr>\n",
              "    <tr>\n",
              "      <th>1</th>\n",
              "      <td>3.0</td>\n",
              "      <td>4.9</td>\n",
              "      <td>0.0</td>\n",
              "    </tr>\n",
              "    <tr>\n",
              "      <th>2</th>\n",
              "      <td>3.2</td>\n",
              "      <td>4.7</td>\n",
              "      <td>0.0</td>\n",
              "    </tr>\n",
              "  </tbody>\n",
              "</table>\n",
              "</div>"
            ],
            "text/plain": [
              "   sepal width (cm)  sepal length (cm)  target\n",
              "0               3.5                5.1     0.0\n",
              "1               3.0                4.9     0.0\n",
              "2               3.2                4.7     0.0"
            ]
          },
          "metadata": {
            "tags": []
          },
          "execution_count": 11
        }
      ]
    },
    {
      "cell_type": "code",
      "metadata": {
        "id": "pYvhAfsH2FVD",
        "colab_type": "code",
        "colab": {
          "base_uri": "https://localhost:8080/",
          "height": 34
        },
        "outputId": "c15bfcd8-bed5-447d-8885-8c101ffe3760"
      },
      "source": [
        "#we'll see how many elements in our data\n",
        "print(data.shape)"
      ],
      "execution_count": null,
      "outputs": [
        {
          "output_type": "stream",
          "text": [
            "(100, 3)\n"
          ],
          "name": "stdout"
        }
      ]
    },
    {
      "cell_type": "markdown",
      "metadata": {
        "id": "yeK8TPXo2zZR",
        "colab_type": "text"
      },
      "source": [
        "# Summary 1:\n",
        "\n",
        "\n",
        "1. until now , i entered the data into a notebook and we found how many target there are(rose of type 0 , rose of type 1 , rose of type 2) but i decided to take only two roses(rose of type 0 , rose of type 1) in order to get\" binary classification\"\n",
        "2. we had 4 features in the data but i just took two features ('sepal length (cm)' , 'sepal width (cm)')\n",
        "3. we have in the data 100 observations\n",
        "\n"
      ]
    },
    {
      "cell_type": "markdown",
      "metadata": {
        "id": "ahj8Ww-G3_fi",
        "colab_type": "text"
      },
      "source": [
        "# understand the target "
      ]
    },
    {
      "cell_type": "code",
      "metadata": {
        "id": "dJcswzaf4KVS",
        "colab_type": "code",
        "colab": {
          "base_uri": "https://localhost:8080/",
          "height": 68
        },
        "outputId": "be8859c8-fc36-47e1-ab8c-91725972f8f8"
      },
      "source": [
        "#how many elements do we have\n",
        "data['target'].value_counts()"
      ],
      "execution_count": null,
      "outputs": [
        {
          "output_type": "execute_result",
          "data": {
            "text/plain": [
              "1.0    50\n",
              "0.0    50\n",
              "Name: target, dtype: int64"
            ]
          },
          "metadata": {
            "tags": []
          },
          "execution_count": 13
        }
      ]
    },
    {
      "cell_type": "markdown",
      "metadata": {
        "id": "c-AvAXJE4uDi",
        "colab_type": "text"
      },
      "source": [
        "# understand the features\n",
        "\n"
      ]
    },
    {
      "cell_type": "code",
      "metadata": {
        "id": "IvhlzgzSbbsc",
        "colab_type": "code",
        "colab": {
          "base_uri": "https://localhost:8080/",
          "height": 544
        },
        "outputId": "9925e959-61d0-4b3e-93d0-c62e47db7de2"
      },
      "source": [
        "#we start first with sepal width\n",
        "#boxplot\n",
        "plt.boxplot(data['sepal width (cm)'])\n",
        "plt.xlabel('sepal width')\n",
        "plt.show()\n",
        "\n",
        "#histogram\n",
        "plt.hist(data['sepal width (cm)'])\n",
        "plt.xlabel('sepal width')\n",
        "plt.show()"
      ],
      "execution_count": null,
      "outputs": [
        {
          "output_type": "display_data",
          "data": {
            "image/png": "[encoded data removed]",
            "text/plain": [
              "<Figure size 432x288 with 1 Axes>"
            ]
          },
          "metadata": {
            "tags": [],
            "needs_background": "light"
          }
        },
        {
          "output_type": "display_data",
          "data": {
            "image/png": "[encoded data removed]",
            "text/plain": [
              "<Figure size 432x288 with 1 Axes>"
            ]
          },
          "metadata": {
            "tags": [],
            "needs_background": "light"
          }
        }
      ]
    },
    {
      "cell_type": "code",
      "metadata": {
        "id": "ifh4X4IVcYKP",
        "colab_type": "code",
        "colab": {
          "base_uri": "https://localhost:8080/",
          "height": 544
        },
        "outputId": "f4d7cd74-c4d3-4b9a-b5be-19beee129fee"
      },
      "source": [
        "# we do the same thing with sepal length\n",
        "#boxplot\n",
        "plt.boxplot(data['sepal length (cm)'])\n",
        "plt.xlabel('sepal length')\n",
        "plt.show()\n",
        "\n",
        "#histogram\n",
        "plt.hist(data['sepal length (cm)'])\n",
        "plt.xlabel('sepal length')\n",
        "plt.show()"
      ],
      "execution_count": null,
      "outputs": [
        {
          "output_type": "display_data",
          "data": {
            "image/png": "[encoded data removed]",
            "text/plain": [
              "<Figure size 432x288 with 1 Axes>"
            ]
          },
          "metadata": {
            "tags": [],
            "needs_background": "light"
          }
        },
        {
          "output_type": "display_data",
          "data": {
            "image/png": "[encoded data removed]",
            "text/plain": [
              "<Figure size 432x288 with 1 Axes>"
            ]
          },
          "metadata": {
            "tags": [],
            "needs_background": "light"
          }
        }
      ]
    },
    {
      "cell_type": "markdown",
      "metadata": {
        "id": "7UzlQT1UbQq-",
        "colab_type": "text"
      },
      "source": [
        "## Summary 2:\n",
        "\n",
        "* we extracted the target and we analyzed the features\n",
        "* we found that the target are divided into 50 observations of rose type 0 and 50 observations of rose type 1 , That's awesome ! \n",
        "* we saw also the distrubution of the features by boxplot and histogram \n",
        "* so we can classifier between them !\n",
        "\n"
      ]
    },
    {
      "cell_type": "markdown",
      "metadata": {
        "id": "GrJeJ8RocHg0",
        "colab_type": "text"
      },
      "source": [
        "## understand the relationship between the features and the target"
      ]
    },
    {
      "cell_type": "code",
      "metadata": {
        "id": "CRCaOzDecPe6",
        "colab_type": "code",
        "colab": {
          "base_uri": "https://localhost:8080/",
          "height": 142
        },
        "outputId": "0a052604-792d-42d0-e639-34d3056cc9fc"
      },
      "source": [
        "data.head(3)"
      ],
      "execution_count": null,
      "outputs": [
        {
          "output_type": "execute_result",
          "data": {
            "text/html": [
              "<div>\n",
              "<style scoped>\n",
              "    .dataframe tbody tr th:only-of-type {\n",
              "        vertical-align: middle;\n",
              "    }\n",
              "\n",
              "    .dataframe tbody tr th {\n",
              "        vertical-align: top;\n",
              "    }\n",
              "\n",
              "    .dataframe thead th {\n",
              "        text-align: right;\n",
              "    }\n",
              "</style>\n",
              "<table border=\"1\" class=\"dataframe\">\n",
              "  <thead>\n",
              "    <tr style=\"text-align: right;\">\n",
              "      <th></th>\n",
              "      <th>sepal width (cm)</th>\n",
              "      <th>sepal length (cm)</th>\n",
              "      <th>target</th>\n",
              "    </tr>\n",
              "  </thead>\n",
              "  <tbody>\n",
              "    <tr>\n",
              "      <th>0</th>\n",
              "      <td>3.5</td>\n",
              "      <td>5.1</td>\n",
              "      <td>0.0</td>\n",
              "    </tr>\n",
              "    <tr>\n",
              "      <th>1</th>\n",
              "      <td>3.0</td>\n",
              "      <td>4.9</td>\n",
              "      <td>0.0</td>\n",
              "    </tr>\n",
              "    <tr>\n",
              "      <th>2</th>\n",
              "      <td>3.2</td>\n",
              "      <td>4.7</td>\n",
              "      <td>0.0</td>\n",
              "    </tr>\n",
              "  </tbody>\n",
              "</table>\n",
              "</div>"
            ],
            "text/plain": [
              "   sepal width (cm)  sepal length (cm)  target\n",
              "0               3.5                5.1     0.0\n",
              "1               3.0                4.9     0.0\n",
              "2               3.2                4.7     0.0"
            ]
          },
          "metadata": {
            "tags": []
          },
          "execution_count": 17
        }
      ]
    },
    {
      "cell_type": "code",
      "metadata": {
        "id": "hNVI899qdFDg",
        "colab_type": "code",
        "colab": {
          "base_uri": "https://localhost:8080/",
          "height": 282
        },
        "outputId": "9b11763e-5d5e-49c8-ee49-10374c17c293"
      },
      "source": [
        "#we extract everything related to the target = 0\n",
        "target_0 = data[data.target == 0]\n",
        "#we study 'sepal length (cm)'and 'sepal width (cm)' in order to find out the ralationship between the features and the target\n",
        "plt.scatter(target_0['sepal length (cm)'], target_0['sepal width (cm)'], color ='green', label='target 0')\n",
        "\n",
        "#we do the same thnig with target 1 \n",
        "target_1 = data[data.target == 1]\n",
        "plt.scatter(target_1['sepal length (cm)'], target_1['sepal width (cm)'] ,color ='red', label = 'target 1')\n",
        "\n",
        "plt.legend()\n",
        "plt.xlabel('sepal length (cm)')\n",
        "plt.ylabel('sepal width (cm)')\n",
        "\n",
        "\n",
        "plt.show()\n"
      ],
      "execution_count": null,
      "outputs": [
        {
          "output_type": "display_data",
          "data": {
            "image/png": "[encoded data removed]",
            "text/plain": [
              "<Figure size 432x288 with 1 Axes>"
            ]
          },
          "metadata": {
            "tags": [],
            "needs_background": "light"
          }
        }
      ]
    },
    {
      "cell_type": "markdown",
      "metadata": {
        "id": "9EcNXdcSg3tL",
        "colab_type": "text"
      },
      "source": [
        "## Summary 3:\n",
        " we have two features so we can draw the data in graph , the graph is called 'scatter plot' and we know that the two roses are separated\n",
        " we must draw a logistic regression for separating them !"
      ]
    },
    {
      "cell_type": "markdown",
      "metadata": {
        "id": "y-0VU09Kh6Xf",
        "colab_type": "text"
      },
      "source": [
        "## Randomize data"
      ]
    },
    {
      "cell_type": "code",
      "metadata": {
        "id": "Y5l0NbhAh_NK",
        "colab_type": "code",
        "colab": {}
      },
      "source": [
        "data = data.sample(frac=1 , random_state= 42 )\n"
      ],
      "execution_count": null,
      "outputs": []
    },
    {
      "cell_type": "markdown",
      "metadata": {
        "id": "dTefUXkFivlw",
        "colab_type": "text"
      },
      "source": [
        "## now we divide the data into testing and training"
      ]
    },
    {
      "cell_type": "code",
      "metadata": {
        "id": "qna6D1Bmi5Vm",
        "colab_type": "code",
        "colab": {}
      },
      "source": [
        " from sklearn.model_selection import train_test_split"
      ],
      "execution_count": null,
      "outputs": []
    },
    {
      "cell_type": "code",
      "metadata": {
        "id": "9MuVez5TjSFZ",
        "colab_type": "code",
        "colab": {}
      },
      "source": [
        "data_train, data_test = train_test_split(data, test_size=0.2)"
      ],
      "execution_count": null,
      "outputs": []
    },
    {
      "cell_type": "code",
      "metadata": {
        "id": "mYx0TJeLjaft",
        "colab_type": "code",
        "colab": {
          "base_uri": "https://localhost:8080/",
          "height": 34
        },
        "outputId": "bde18dad-a25e-4518-e0e0-b985b317b915"
      },
      "source": [
        "# we have 100 observations in the data\n",
        "print(data.shape)"
      ],
      "execution_count": null,
      "outputs": [
        {
          "output_type": "stream",
          "text": [
            "(100, 3)\n"
          ],
          "name": "stdout"
        }
      ]
    },
    {
      "cell_type": "code",
      "metadata": {
        "id": "0QwUahNvjh1-",
        "colab_type": "code",
        "colab": {
          "base_uri": "https://localhost:8080/",
          "height": 34
        },
        "outputId": "2deb8402-dc4a-4bf9-d982-8e0c7dac4f73"
      },
      "source": [
        "# we have 80 observations in training data\n",
        "print(data_train.shape)"
      ],
      "execution_count": null,
      "outputs": [
        {
          "output_type": "stream",
          "text": [
            "(80, 3)\n"
          ],
          "name": "stdout"
        }
      ]
    },
    {
      "cell_type": "code",
      "metadata": {
        "id": "nNmHSElmjwYY",
        "colab_type": "code",
        "colab": {
          "base_uri": "https://localhost:8080/",
          "height": 34
        },
        "outputId": "92854c31-f7e0-4365-a6cc-df82007d3fb9"
      },
      "source": [
        "# we have 20 observations in  training data\n",
        "print(data_test.shape)"
      ],
      "execution_count": null,
      "outputs": [
        {
          "output_type": "stream",
          "text": [
            "(20, 3)\n"
          ],
          "name": "stdout"
        }
      ]
    },
    {
      "cell_type": "code",
      "metadata": {
        "id": "OTEqS5Mfj1rM",
        "colab_type": "code",
        "colab": {
          "base_uri": "https://localhost:8080/",
          "height": 279
        },
        "outputId": "c7fd8ced-acc9-4063-a6de-5f0dc5d7415d"
      },
      "source": [
        "# we see the data ! \n",
        "plt.scatter(data_train['sepal width (cm)'] ,data_train['sepal length (cm)'], label='training')\n",
        "plt.scatter(data_test['sepal width (cm)'], data_test['sepal length (cm)'], label='testing')\n",
        "\n",
        "plt.legend()\n",
        "plt.xlabel('sepal length (cm)')\n",
        "plt.ylabel('sepal width (cm)')\n",
        "\n",
        "plt.show()"
      ],
      "execution_count": null,
      "outputs": [
        {
          "output_type": "display_data",
          "data": {
            "image/png": "[encoded data removed]",
            "text/plain": [
              "<Figure size 432x288 with 1 Axes>"
            ]
          },
          "metadata": {
            "tags": [],
            "needs_background": "light"
          }
        }
      ]
    },
    {
      "cell_type": "markdown",
      "metadata": {
        "id": "FxY3D5DSkVxv",
        "colab_type": "text"
      },
      "source": [
        "## Train logistic regression"
      ]
    },
    {
      "cell_type": "code",
      "metadata": {
        "id": "y3zR8hHgkbs2",
        "colab_type": "code",
        "colab": {}
      },
      "source": [
        "# the data is divided into a feature and target \n",
        "X_train = data_train[['sepal width (cm)' , 'sepal length (cm)']]\n",
        "y_train = data_train['target']\n",
        "\n",
        "\n",
        "X_test = data_test[['sepal width (cm)', 'sepal length (cm)']]\n",
        "y_test = data_test['target']"
      ],
      "execution_count": null,
      "outputs": []
    },
    {
      "cell_type": "code",
      "metadata": {
        "id": "8XRmLwNjkiCi",
        "colab_type": "code",
        "colab": {
          "base_uri": "https://localhost:8080/",
          "height": 102
        },
        "outputId": "189ff7e2-5b5b-47d8-fce5-b6486d325bc3"
      },
      "source": [
        "from sklearn.linear_model import LogisticRegression\n",
        "# we create the object of logistic regression\n",
        "logisticRegr = LogisticRegression()\n",
        "# we give it the data to learn \n",
        "logisticRegr.fit(X_train, y_train)"
      ],
      "execution_count": null,
      "outputs": [
        {
          "output_type": "execute_result",
          "data": {
            "text/plain": [
              "LogisticRegression(C=1.0, class_weight=None, dual=False, fit_intercept=True,\n",
              "                   intercept_scaling=1, l1_ratio=None, max_iter=100,\n",
              "                   multi_class='auto', n_jobs=None, penalty='l2',\n",
              "                   random_state=None, solver='lbfgs', tol=0.0001, verbose=0,\n",
              "                   warm_start=False)"
            ]
          },
          "metadata": {
            "tags": []
          },
          "execution_count": 27
        }
      ]
    },
    {
      "cell_type": "markdown",
      "metadata": {
        "id": "4YAMZQ_Mk2T0",
        "colab_type": "text"
      },
      "source": [
        "## let's see what it will do ! i mean logisitic regression "
      ]
    },
    {
      "cell_type": "markdown",
      "metadata": {
        "id": "tl6A5oWnlIzp",
        "colab_type": "text"
      },
      "source": [
        "the formula of logistic regression \n",
        " \n",
        "$$p(y=1|x; \\theta) = \\frac{1}{1 + e^{\\theta_0 + \\theta_1 x_1 + \\theta_2 x_2}}$$\n",
        " \n",
        "it's the same !\n",
        " \n",
        "$$\\theta_0 + \\theta_1 x_1 + \\theta_2 x_2 = log(\\frac{p}{1-p})$$\n",
        " \n",
        "the line equation is :\n",
        "$$\\theta_0 + \\theta_1 x_1 + \\theta_2 x_2 = 0$$ \n",
        " \n",
        "That is, \n",
        " \n",
        "$$x_2 = \\frac{1}{\\theta_2} (\\theta_0 + \\theta_1 x_1)$$"
      ]
    },
    {
      "cell_type": "code",
      "metadata": {
        "id": "9wNEjfZtlMI5",
        "colab_type": "code",
        "colab": {
          "base_uri": "https://localhost:8080/",
          "height": 34
        },
        "outputId": "d860f540-b85a-4529-a495-2b9f253806d8"
      },
      "source": [
        "# we see the coef (theta_0, theta_1, theta_2)\n",
        "logisticRegr.coef_"
      ],
      "execution_count": null,
      "outputs": [
        {
          "output_type": "execute_result",
          "data": {
            "text/plain": [
              "array([[-2.68802339,  2.9269813 ]])"
            ]
          },
          "metadata": {
            "tags": []
          },
          "execution_count": 33
        }
      ]
    },
    {
      "cell_type": "code",
      "metadata": {
        "id": "JfgvCoRslpi6",
        "colab_type": "code",
        "colab": {
          "base_uri": "https://localhost:8080/",
          "height": 34
        },
        "outputId": "2c400596-ca16-4083-9dbe-9c6c799887da"
      },
      "source": [
        "# intercept is theta_0 \n",
        "logisticRegr.intercept_"
      ],
      "execution_count": null,
      "outputs": [
        {
          "output_type": "execute_result",
          "data": {
            "text/plain": [
              "array([-7.61596941])"
            ]
          },
          "metadata": {
            "tags": []
          },
          "execution_count": 34
        }
      ]
    },
    {
      "cell_type": "code",
      "metadata": {
        "id": "tWnZ0jG2l0NY",
        "colab_type": "code",
        "colab": {}
      },
      "source": [
        "theta_0 = logisticRegr.intercept_[0]\n",
        "theta_1 = logisticRegr.coef_[0, 0]\n",
        "theta_2 = logisticRegr.coef_[0, 1]"
      ],
      "execution_count": null,
      "outputs": []
    },
    {
      "cell_type": "code",
      "metadata": {
        "id": "DcxGolg4l4eC",
        "colab_type": "code",
        "colab": {
          "base_uri": "https://localhost:8080/",
          "height": 279
        },
        "outputId": "02b0cffd-1826-4921-972d-671826b1cf8d"
      },
      "source": [
        "# decision bondary\n",
        "\n",
        "# we draw decision boundary \n",
        "def decision_boundary(theta_0, theta_1, theta_2, l_x):\n",
        "    return 1 / theta_2 * (-theta_0 -theta_1 * l_x)\n",
        "\n",
        "# target = 0 \n",
        "target_0 = data[data.target == 0]\n",
        "plt.scatter(target_0['sepal width (cm)'], target_0['sepal length (cm)'],color='blue', label='target 0')\n",
        "\n",
        "#we do the same thing with target = 1\n",
        "target_1 = data[data.target == 1]\n",
        "plt.scatter(target_1['sepal width (cm)'] ,target_1['sepal length (cm)'] ,color='red', label='target 1')\n",
        "\n",
        "# we add the decision boundary \n",
        "l_x = np.linspace(1, 5)\n",
        "l_y = decision_boundary(theta_0, theta_1, theta_2, l_x)\n",
        "plt.plot(l_x, l_y, label='decision boundary')\n",
        "\n",
        "plt.legend()\n",
        "plt.xlabel('sepal length (cm)')\n",
        "plt.ylabel('sepal width (cm)')\n",
        "\n",
        "plt.show()"
      ],
      "execution_count": null,
      "outputs": [
        {
          "output_type": "display_data",
          "data": {
            "image/png": "[encoded data removed]",
            "text/plain": [
              "<Figure size 432x288 with 1 Axes>"
            ]
          },
          "metadata": {
            "tags": [],
            "needs_background": "light"
          }
        }
      ]
    },
    {
      "cell_type": "markdown",
      "metadata": {
        "id": "yZ2QMCIGmpJp",
        "colab_type": "text"
      },
      "source": [
        "## is this an excellent example ?"
      ]
    },
    {
      "cell_type": "markdown",
      "metadata": {
        "id": "RVapMgLXm3rq",
        "colab_type": "text"
      },
      "source": [
        "there are many methods to check !\n",
        "1. Precision\n",
        "2.Confusion matrix\n",
        "3.Accuracy"
      ]
    },
    {
      "cell_type": "markdown",
      "metadata": {
        "id": "-_pDIuRDnN_D",
        "colab_type": "text"
      },
      "source": [
        "## Confusion matrix"
      ]
    },
    {
      "cell_type": "markdown",
      "metadata": {
        "id": "neYZCSexnd3c",
        "colab_type": "text"
      },
      "source": [
        "[<img src=\"https://static.packt-cdn.com/products/9781838555078/graphics/C13314_06_05.jpg\">]"
      ]
    },
    {
      "cell_type": "markdown",
      "metadata": {
        "id": "41U5xKZKns0a",
        "colab_type": "text"
      },
      "source": [
        "__TN (True Negative)__:  I Predict target=0 and in the reality is target=0\n",
        "\n",
        "__TP (True Positive)__:  I Predict target=1 and in the rality is target=1\n",
        "\n",
        "__FN (False Negative)__: I Predict target=0 and in the reality is target=1\n",
        "\n",
        "__FP (False Positive)__: I Predict target=1 and in the reality is target=0"
      ]
    },
    {
      "cell_type": "code",
      "metadata": {
        "id": "giwPeyRTnxWF",
        "colab_type": "code",
        "colab": {
          "base_uri": "https://localhost:8080/",
          "height": 51
        },
        "outputId": "7e2dd066-968a-4044-eb82-e85abf83ed3d"
      },
      "source": [
        "# we see the predictions\n",
        "y_pred = logisticRegr.predict(X_test)\n",
        "\n",
        "print('predictions: {}'.format(y_pred))\n",
        "print('true: {}'.format(list(y_test.astype(int))))"
      ],
      "execution_count": null,
      "outputs": [
        {
          "output_type": "stream",
          "text": [
            "predictions: [1. 0. 0. 1. 0. 0. 1. 1. 1. 0. 1. 1. 0. 0. 1. 0. 0. 0. 1. 1.]\n",
            "true: [1, 0, 0, 1, 0, 0, 1, 1, 1, 0, 1, 1, 0, 0, 1, 0, 0, 0, 1, 1]\n"
          ],
          "name": "stdout"
        }
      ]
    },
    {
      "cell_type": "code",
      "metadata": {
        "id": "jYqZwBTQq7f2",
        "colab_type": "code",
        "colab": {}
      },
      "source": [
        "from sklearn.metrics import confusion_matrix\n",
        "# confusion matrix \n",
        "cm = confusion_matrix(y_true=y_test, y_pred=y_pred)"
      ],
      "execution_count": null,
      "outputs": []
    },
    {
      "cell_type": "code",
      "metadata": {
        "id": "Zu8KgbziFBP1",
        "colab_type": "code",
        "colab": {
          "base_uri": "https://localhost:8080/",
          "height": 295
        },
        "outputId": "7ebc9b55-5c33-40bc-f0a1-5524daecc419"
      },
      "source": [
        "ax= plt.subplot()\n",
        "sns.heatmap(cm, annot=True, ax = ax, cbar=False)\n",
        "\n",
        "# labels, title and ticks\n",
        "ax.set_xlabel('Predicted labels')\n",
        "ax.set_ylabel('True labels')\n",
        "ax.set_title('Confusion Matrix')\n",
        "ax.xaxis.set_ticklabels(['target=0', 'target=1'])\n",
        "ax.yaxis.set_ticklabels(['target=0', 'target=1'])\n",
        "plt.show()\n"
      ],
      "execution_count": null,
      "outputs": [
        {
          "output_type": "display_data",
          "data": {
            "image/png": "[encoded data removed]",
            "text/plain": [
              "<Figure size 432x288 with 1 Axes>"
            ]
          },
          "metadata": {
            "tags": [],
            "needs_background": "light"
          }
        }
      ]
    },
    {
      "cell_type": "code",
      "metadata": {
        "id": "JAUiBnqEoatL",
        "colab_type": "code",
        "colab": {}
      },
      "source": [
        "# true negative \n",
        "TN = 10\n",
        "# true positive \n",
        "TP = 10\n",
        "# false negative \n",
        "FN = 0 \n",
        "# false positive \n",
        "FP = 0 "
      ],
      "execution_count": null,
      "outputs": []
    },
    {
      "cell_type": "markdown",
      "metadata": {
        "id": "wtMOW17OL6__",
        "colab_type": "text"
      },
      "source": [
        "## Precision"
      ]
    },
    {
      "cell_type": "markdown",
      "metadata": {
        "id": "-DZaeC5DLjLy",
        "colab_type": "text"
      },
      "source": [
        "$$\\text{Precision (%)} = \\frac{TP}{TP + FP} * 100$$"
      ]
    },
    {
      "cell_type": "code",
      "metadata": {
        "id": "dYE6MfK6qG-7",
        "colab_type": "code",
        "colab": {
          "base_uri": "https://localhost:8080/",
          "height": 34
        },
        "outputId": "b22ec191-81f3-4cc0-b35a-f6157210c18a"
      },
      "source": [
        "precision = TP / (TP + FP) * 100\n",
        "print(precision, '%')"
      ],
      "execution_count": null,
      "outputs": [
        {
          "output_type": "stream",
          "text": [
            "100.0 %\n"
          ],
          "name": "stdout"
        }
      ]
    }
  ]
}